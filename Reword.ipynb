{
  "nbformat": 4,
  "nbformat_minor": 0,
  "metadata": {
    "colab": {
      "name": "Reword.ipynb",
      "provenance": [],
      "mount_file_id": "1S2XnWz-WFedlt4kS8801DkpoJFWSkwP8",
      "authorship_tag": "ABX9TyMVbaIo1K4QB1+/ka/d5lJY",
      "include_colab_link": true
    },
    "kernelspec": {
      "name": "python3",
      "display_name": "Python 3"
    },
    "language_info": {
      "name": "python"
    }
  },
  "cells": [
    {
      "cell_type": "markdown",
      "metadata": {
        "id": "view-in-github",
        "colab_type": "text"
      },
      "source": [
        "<a href=\"https://colab.research.google.com/github/Daniel-Dumitrescu/text-analysis/blob/main/Reword.ipynb\" target=\"_parent\"><img src=\"https://colab.research.google.com/assets/colab-badge.svg\" alt=\"Open In Colab\"/></a>"
      ]
    },
    {
      "cell_type": "code",
      "metadata": {
        "id": "OVEsiS4tVstH"
      },
      "source": [
        "from google.colab import drive\n",
        "drive.mount('/content/drive')\n"
      ],
      "execution_count": null,
      "outputs": []
    },
    {
      "cell_type": "code",
      "metadata": {
        "id": "M7bpmIddW5lc"
      },
      "source": [
        "import nltk\n",
        "nltk.download('wordnet') \n",
        "from nltk.corpus import wordnet as wn"
      ],
      "execution_count": null,
      "outputs": []
    },
    {
      "cell_type": "code",
      "metadata": {
        "id": "zzQzSSe2YAWg"
      },
      "source": [
        "!pip install PyDictionary\n",
        "from PyDictionary import PyDictionary \n"
      ],
      "execution_count": null,
      "outputs": []
    },
    {
      "cell_type": "code",
      "metadata": {
        "id": "YnAccQ-7Wxbp"
      },
      "source": [
        "dictionary = PyDictionary()"
      ],
      "execution_count": null,
      "outputs": []
    },
    {
      "cell_type": "code",
      "metadata": {
        "id": "MtaMKpXVKHUG"
      },
      "source": [
        "def cleanTheText(text):\n",
        "  cleanText = copy.deepcopy(text)\n",
        "  for i in range(len(text)):\n",
        "    cleanWord = \"\"\n",
        "    for j in range(len(text[i])):\n",
        "      if text[i][j] not in \".,!?\":\n",
        "        cleanWord += text[i][j]\n",
        "    cleanText[i] = cleanWord.lower()\n",
        "  return cleanText"
      ],
      "execution_count": null,
      "outputs": []
    },
    {
      "cell_type": "code",
      "metadata": {
        "id": "inhlZhl5ayMY"
      },
      "source": [
        "import random\n",
        "def synonymize(cleanText, text):\n",
        "  newWords = []\n",
        "  for i in range(2,len(text),3):\n",
        "        if cleanText[i] in [\"a\",\"I\",\"is\",\"it\",\"of\",\"an\",\"for\",\"and\",\"nor\",\"or\"]:\n",
        "            synonyms =  [cleanText[i]]\n",
        "        else:\n",
        "          synonyms = dictionary.synonym(cleanText[i])\n",
        "        if (synonyms is not None):\n",
        "          newWord = synonyms[random.randint(0,len(synonyms)-1)]\n",
        "        else:\n",
        "          newWord = text[i]\n",
        "        newWords.append(newWord)\n",
        "  return newWords\n",
        "        \n",
        "    "
      ],
      "execution_count": null,
      "outputs": []
    },
    {
      "cell_type": "code",
      "metadata": {
        "id": "Wy-vaZ61S_lw"
      },
      "source": [
        "def replaceWords(newWords, text):\n",
        "  output = \"\"\n",
        "  charCounter = 100\n",
        "  for i in range(0,len(text)-2,3):\n",
        "    output += (text[i]+\" \")\n",
        "    output += (text[i+1]+\" \")\n",
        "    if text[i+2][0].isupper():\n",
        "      output += (newWords[i//3][0].upper() + newWords[i//3][1:] + \" \")\n",
        "    elif text[i+2][-1] in \".,!?\":\n",
        "      output += (newWords[i//3] + text[i+2][-1] + \" \")\n",
        "    else:\n",
        "      output += newWords[i//3] + \" \"\n",
        "    if len(output) > charCounter:\n",
        "      output += \"\\n\"\n",
        "      charCounter += 100\n",
        "    if (i+3) >= (len(text)-2):\n",
        "      for j in range(len(text)-(i+3)):\n",
        "        output += (text[i+3+j]+\" \")\n",
        "  \n",
        "  return output"
      ],
      "execution_count": null,
      "outputs": []
    },
    {
      "cell_type": "code",
      "metadata": {
        "id": "C_ktTjf7A9ul"
      },
      "source": [
        "import string\n",
        "import copy"
      ],
      "execution_count": null,
      "outputs": []
    },
    {
      "cell_type": "code",
      "metadata": {
        "id": "RdYHkX_EaZxX"
      },
      "source": [
        "def rewordFile(file):\n",
        "  text = open('/content/drive/MyDrive/CO-OP Summer 2021/Text Analysis/MadameBovaryEssay.txt').read().split()\n",
        "  cleanText = cleanTheText(text)\n",
        "  newWords = synonymize(cleanText, text)\n",
        "  writeToFile(newWords,  text)\n",
        "\n",
        "\n"
      ],
      "execution_count": null,
      "outputs": []
    },
    {
      "cell_type": "code",
      "metadata": {
        "id": "Xn6ih6p6IbUB"
      },
      "source": [
        "def rewordText(rawText):\n",
        "  text = rawText.split()\n",
        "  cleanText = cleanTheText(text)\n",
        "  newWords = synonymize(cleanText, text)\n",
        "  output = replaceWords(newWords, text)\n",
        "  print(output)"
      ],
      "execution_count": null,
      "outputs": []
    },
    {
      "cell_type": "code",
      "metadata": {
        "id": "1-0dh9HvL-dO"
      },
      "source": [
        "def writeToFile(newWords, text):\n",
        "  f = open(\"/content/drive/MyDrive/CO-OP Summer 2021/Text Analysis/output.txt\", \"a\")\n",
        "  f.write(replaceWords(newWords, text))\n",
        "  f.close()\n"
      ],
      "execution_count": null,
      "outputs": []
    },
    {
      "cell_type": "code",
      "metadata": {
        "colab": {
          "base_uri": "https://localhost:8080/"
        },
        "id": "KOY5NG-wNxjw",
        "outputId": "a83a64fe-d0fc-46e9-cda5-c920266960f8"
      },
      "source": [
        "rewordText('The thick foliage and intertwined vines made the hike nearly impossible')\n",
        "rewordFile('/content/drive/MyDrive/CO-OP Summer 2021/Text Analysis/MadameBovaryEssay.txt')"
      ],
      "execution_count": null,
      "outputs": [
        {
          "output_type": "stream",
          "text": [
            "The thick plant organ and intertwined luffa made the trudge nearly impossible \n"
          ],
          "name": "stdout"
        }
      ]
    }
  ]
}